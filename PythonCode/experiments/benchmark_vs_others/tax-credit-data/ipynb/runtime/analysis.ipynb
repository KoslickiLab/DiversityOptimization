{
 "cells": [
  {
   "cell_type": "markdown",
   "metadata": {},
   "source": [
    "# Evaluate computational runtimes\n",
    "The purpose of this notebook is to analyze and plot computational runtimes generated for a list of taxonomy assignment methods in [this notebook](./compute-runtimes.ipynb)."
   ]
  },
  {
   "cell_type": "code",
   "execution_count": null,
   "metadata": {},
   "outputs": [],
   "source": [
    "from os.path import expandvars\n",
    "from tax_credit.plotting_functions import (lmplot_from_data_frame, calculate_linear_regress)\n",
    "import pandas as pd\n",
    "from os.path import join\n",
    "import seaborn.colors.xkcd_rgb as colors"
   ]
  },
  {
   "cell_type": "markdown",
   "metadata": {},
   "source": [
    "First, load the results file generated in [this notebook](./compute-runtimes.ipynb). Modify the contents of the following cell, then \"run all\" cells."
   ]
  },
  {
   "cell_type": "code",
   "execution_count": null,
   "metadata": {},
   "outputs": [],
   "source": [
    "runtime_results = '../../temp_results_runtime/runtime_results.txt'\n",
    "outdir = '../../plots/'"
   ]
  },
  {
   "cell_type": "code",
   "execution_count": null,
   "metadata": {},
   "outputs": [],
   "source": [
    "df = pd.read_csv(runtime_results, header=None, sep='\\t', \n",
    "                 names=[\"Method\", \"Number of Query Sequences\",\n",
    "                        \"Number of Reference Sequences\",\n",
    "                        \"Iteration\", \"Runtime (s)\"])\n",
    "df = df.groupby((\"Method\", \"Number of Query Sequences\",\n",
    "                 \"Number of Reference Sequences\")).median().reset_index()\n"
   ]
  },
  {
   "cell_type": "code",
   "execution_count": null,
   "metadata": {},
   "outputs": [],
   "source": [
    "color_palette={\n",
    "    'blast+': colors['electric purple'], 'naive-bayes': 'dodgerblue',\n",
    "    'mindivlp': colors['electric green']\n",
    "}\n"
   ]
  },
  {
   "cell_type": "markdown",
   "metadata": {},
   "source": [
    "## Runtime as a function of number of reference sequences\n",
    "In these plots, only a single query sequence is searched against the reference database, so the lines illustrate the effect of number of reference sequences on runtime.  This tells us how long it takes to assign taxonomy to the first sequence in our database, and therefore provides a measure of time needed to index the reference. We are primarily interested in the slope of the line, which indicates the effect of additional reference sequences."
   ]
  },
  {
   "cell_type": "code",
   "execution_count": null,
   "metadata": {},
   "outputs": [],
   "source": [
    "lm, reg = lmplot_from_data_frame(df[df[\"Number of Query Sequences\"] == 1],\n",
    "                                 \"Number of Reference Sequences\", \"Runtime (s)\", group_by=\"Number of Query Sequences\",\n",
    "                                 hue=\"Method\", regress=True, color_palette=color_palette)\n",
    "reg"
   ]
  },
  {
   "cell_type": "code",
   "execution_count": null,
   "metadata": {},
   "outputs": [],
   "source": [
    "lm.savefig(join(outdir, 'runtime_by_refcount.png'))"
   ]
  },
  {
   "cell_type": "markdown",
   "metadata": {},
   "source": [
    "## Runtime as a function of number of query sequences\n",
    "These plots gives us an idea of how runtime scales with number of input sequences by varying the number of sequences that taxonomy is assigned to. Since database indexing is included in all of these steps, we care most about the slope of the line and very little about the y-intercept (which represents how long the database takes to index, and is a step can be typically performed once for multiple runs of a taxonomic assigner so it's a one-time cost and thus isn't as important."
   ]
  },
  {
   "cell_type": "code",
   "execution_count": null,
   "metadata": {},
   "outputs": [],
   "source": [
    "lm, reg = lmplot_from_data_frame(df[df[\"Number of Reference Sequences\"] == 10000],\n",
    "                                 \"Number of Query Sequences\", \"Runtime (s)\", group_by = \"Number of Reference Sequences\",\n",
    "                                 hue=\"Method\", regress=True, color_palette=color_palette)\n",
    "\n",
    "reg"
   ]
  },
  {
   "cell_type": "code",
   "execution_count": null,
   "metadata": {},
   "outputs": [],
   "source": [
    "lm.savefig(join(outdir, 'runtime_by_querycount.png'))"
   ]
  },
  {
   "cell_type": "code",
   "execution_count": null,
   "metadata": {},
   "outputs": [],
   "source": []
  }
 ],
 "metadata": {
  "anaconda-cloud": {},
  "kernelspec": {
   "display_name": "Python 3",
   "language": "python",
   "name": "python3"
  },
  "language_info": {
   "codemirror_mode": {
    "name": "ipython",
    "version": 3
   },
   "file_extension": ".py",
   "mimetype": "text/x-python",
   "name": "python",
   "nbconvert_exporter": "python",
   "pygments_lexer": "ipython3",
   "version": "3.6.7"
  }
 },
 "nbformat": 4,
 "nbformat_minor": 1
}
